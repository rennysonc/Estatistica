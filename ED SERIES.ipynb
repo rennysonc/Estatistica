{
 "cells": [
  {
   "cell_type": "markdown",
   "metadata": {},
   "source": [
    "**Estrutura de Dados em Series**\n"
   ]
  },
  {
   "cell_type": "markdown",
   "metadata": {},
   "source": [
    "***Series\t=\tvetor\tde\tdados\t+\tvetor\tde\trótulos.***"
   ]
  },
  {
   "cell_type": "markdown",
   "metadata": {},
   "source": [
    "#Criando um bloco de duas series uma com as notas de alguns alunos e outra com a matricula de cada"
   ]
  },
  {
   "cell_type": "code",
   "execution_count": 4,
   "metadata": {},
   "outputs": [
    {
     "name": "stdout",
     "output_type": "stream",
     "text": [
      "0    7.6\n",
      "1    5.0\n",
      "2    8.5\n",
      "3    9.5\n",
      "4    6.4\n",
      "dtype: float64\n",
      "---------------\n",
      "M02      Bob\n",
      "M05    Dayse\n",
      "M13     Bill\n",
      "M14     Cris\n",
      "M19     Jimi\n",
      "dtype: object\n"
     ]
    }
   ],
   "source": [
    "#P01:\tHello\tSeries!\n",
    "import\tpandas\tas\tpd\n",
    "#cria\ta\tSeries\tnotas\n",
    "notas\t=\tpd.Series([7.6,\t5.0,\t8.5,\t9.5,\t6.4])\n",
    "#cria\ta\tSeries\talunos\n",
    "lst_matriculas\t=\t['M02','M05','M13','M14','M19']\n",
    "lst_nomes\t=\t['Bob','Dayse','Bill','Cris','Jimi']\n",
    "alunos\t=\tpd.Series(lst_nomes,index=lst_matriculas)\n",
    "#imprime\tas\tduas\tSeries\n",
    "print(notas);\tprint(\"---------------\");\tprint(alunos)"
   ]
  },
  {
   "cell_type": "markdown",
   "metadata": {},
   "source": [
    "#Diferença entre lista e dicionario.\n"
   ]
  },
  {
   "cell_type": "markdown",
   "metadata": {},
   "source": [
    "lista = indices de posição precisam ser inteiros com uma sequencia ordenada de itens.                \n",
    "\n",
    "\n",
    "\n",
    "\n",
    "\n",
    "Dicionario = não precisa ser so inteiro, pode ser também string e não existe um conceito de ordem.\n"
   ]
  },
  {
   "cell_type": "markdown",
   "metadata": {},
   "source": [
    "\n",
    "\n",
    "\n",
    "\n",
    "\n",
    "*Elementos Basicos de uma Serie*"
   ]
  },
  {
   "cell_type": "markdown",
   "metadata": {},
   "source": [
    "- dtype = corresponde ao tipo de elementos do vetor de dados \n",
    "- dtype é diferente de type()\n",
    "- Type representa a classe desse objeto!\n",
    "\n"
   ]
  },
  {
   "cell_type": "markdown",
   "metadata": {},
   "source": [
    "*Outras Propriedade elementares além do dtype*"
   ]
  },
  {
   "cell_type": "markdown",
   "metadata": {},
   "source": [
    "- values\t:\tvetor\tde\tdados;\n",
    "- index\t:\tvetor\tde\trótulos;\n",
    "- name\t:\tnome\tdo\tvetor\tde\tdados;\n",
    "- size\t:\ttamanho\tda\tSeries\t(número\tde\telementos);\n",
    "- index.name\t:\tnome\tdo\tvetor\tde\trótulos;\n",
    "- index.dtype\t:\t\tdtype\t\tdo\tvetor\tde\trótulos."
   ]
  },
  {
   "cell_type": "code",
   "execution_count": 3,
   "metadata": {},
   "outputs": [
    {
     "name": "stdout",
     "output_type": "stream",
     "text": [
      "matrículas\n",
      "M02      Bob\n",
      "M05    Dayse\n",
      "M13     Bill\n",
      "M14     Cris\n",
      "M19     Jimi\n",
      "Name: alunos, dtype: object\n",
      "-----------\n",
      "número\tde\telementos:\t 5\n",
      "vetor\tde\tdados:\t ['Bob' 'Dayse' 'Bill' 'Cris' 'Jimi']\n",
      "vetor\tde\trótulos:\t Index(['M02', 'M05', 'M13', 'M14', 'M19'], dtype='object', name='matrículas')\n",
      "tipo\t(type):\t <class 'pandas.core.series.Series'>\n",
      "dtype\tda\tSeries: object\n",
      "dtype\tdo\tvetor\tde\trótulos: object\n"
     ]
    }
   ],
   "source": [
    "#P02:\tPropriedades\tbásicas\tdas\tSeries\n",
    "import\tpandas\tas\tpd\n",
    "#cria\ta\tSeries\t\"alunos\"\n",
    "alunos\t=\tpd.Series ({'M02':'Bob','M05':'Dayse','M13':'Bill','M14':'Cris','M19':'Jimi'})\n",
    "#atribui\tnomes\tp/\tos\tvetores\tde\tdados\te\trótulos\n",
    "alunos.name\t=\t\"alunos\"\t\t\t\t\t\t\t\t\t\t\t\t\t\n",
    "alunos.index.name\t=\t\"matrículas\"\n",
    "#recupera\te\timprime\tas\tpropriedades\n",
    "print(alunos)\n",
    "print('-----------')\n",
    "tamanho\t=\talunos.size\t\t\t\t\t\t\t\t\t\t\t\t\t\t\t\t\t\t\n",
    "dados\t=\talunos.values\t\t\t\t\t\t\t\t\t\t\t\t\t\t\t\t\n",
    "rotulos\t=\talunos.index\t\t\t\t\t\t\t\t\t\t\t\t\t\t\t\t\t\n",
    "alunos_tipo\t=\ttype(alunos)\t\t\t\t\t\t\t\t\t\t\t\t\t\n",
    "alunos_dtype\t=\talunos.dtype\t\t\t\t\t\t\t\t\t\t\t\t\n",
    "alunos_idx_dtype\t=\talunos.index.dtype\t\t\n",
    "print('número\tde\telementos:\t',\ttamanho)\n",
    "print('vetor\tde\tdados:\t',\tdados)\n",
    "print('vetor\tde\trótulos:\t',\trotulos)\n",
    "print('tipo\t(type):\t',\talunos_tipo)\n",
    "print('dtype\tda\tSeries:',\talunos_dtype)\n",
    "print('dtype\tdo\tvetor\tde\trótulos:',\talunos_idx_dtype)\n"
   ]
  },
  {
   "cell_type": "markdown",
   "metadata": {},
   "source": [
    "**CONSULTA\t E MODIFICAÇÃO\tDE\tDADOS**\n"
   ]
  },
  {
   "cell_type": "markdown",
   "metadata": {},
   "source": [
    "*indexação\ttradicional*"
   ]
  },
  {
   "cell_type": "markdown",
   "metadata": {},
   "source": [
    "- utilizada\t quando\t você quiser\t recuperar\t apenas\t um\t elemento\t da\t Series."
   ]
  },
  {
   "cell_type": "markdown",
   "metadata": {},
   "source": [
    "*fatiamento*"
   ]
  },
  {
   "cell_type": "markdown",
   "metadata": {},
   "source": [
    "- utilizada\tquando\tvocê\tquiser\trecuperar\tmais\tde\tum\telemento da\tSeries.\n",
    "- Por\tintervalos\t(ranges)\tdefinidos\tpor\tdois\tpontos\t\t:\t;\n",
    "- Por\tlistas.\n",
    "\n"
   ]
  },
  {
   "cell_type": "markdown",
   "metadata": {},
   "source": [
    "  *Sintaxe Explicação*\n",
    "                    \n",
    "                    \n",
    "                    \n",
    "                    \n",
    "- s[i:j]\t do\telemento\tde\tíndice\t\ti\t\tao\tde\tíndice\t\tj-1\t.\n",
    "- s[i:]\t do\telemento\tde\tíndice\t\ti\t\taté\to\túltimo.\n",
    "- s[:j]\t do\tprimeiro\telemento\tao\tde\tíndice\t\tj-1\t.\n",
    "- s[-k:]\t últimos\t\tk\t\telementos.\n",
    "- s[i:j:k]\t do\telemento\t\ti\t\tao\t\tj-1\t,\tutilizando\to\tpasso\t\tk.\t\n",
    "- s[[lista]]\t todos\tos\telementos\tespec.ificados\tna\tlista."
   ]
  },
  {
   "cell_type": "markdown",
   "metadata": {},
   "source": [
    "*Diferença entre indexação e fatiamento*\n",
    "\n",
    "- A\t indexação\t tradicional\t sempre\t retorna\t um\t único elemento,\t cujo\t tipo\t será\t o\t tipo\t básico\t Python correspondente\tao\t\tdtype\t\tdo\tvetor\tde\tdados.\tPor\texemplo,\n",
    "\talunos[0]\t\tretorna\tuma\tstring\t(tipo\tstr)\te\t\tnotas[0]\t,\tum float.\n",
    "\n",
    "- A\t operação\t de\tfatiamento\t sempre\t retorna\t uma\t Series,\t ou seja,\tum\tobjeto\tdo\ttipo\t\tpandas.core.series.Series\t."
   ]
  },
  {
   "cell_type": "markdown",
   "metadata": {},
   "source": [
    "**indexação booleana**"
   ]
  },
  {
   "cell_type": "code",
   "execution_count": 2,
   "metadata": {},
   "outputs": [
    {
     "name": "stdout",
     "output_type": "stream",
     "text": [
      "relação\tde\talunos\taprovados:\n",
      "---------------------------\n",
      "M02     Bob\n",
      "M13    Bill\n",
      "M14    Cris\n",
      "dtype: object\n"
     ]
    }
   ],
   "source": [
    "#P03:\tIndexação\tbooleana\n",
    "import\tpandas\tas\tpd\n",
    "#cria\tas\tSeries\t\"notas\"\te\t\"alunos\"\n",
    "notas\t=\tpd.Series([7.6,\t5.0,\t8.5,\t9.5,\t6.4])\n",
    "alunos\t=\tpd.Series({'M02':'Bob','M05':'Dayse','M13':'Bill','M14':'Cris','M19':'Jimi'})\n",
    "#obtém\tos\tíndices\tdos\talunos\taprovados\n",
    "idx_aprovados\t=\tnotas[notas\t>=\t7].index\n",
    "\n",
    "#imprime\tos\talunos\taprovados\n",
    "print('relação\tde\talunos\taprovados:')\n",
    "print('---------------------------')\n",
    "print(alunos[idx_aprovados])"
   ]
  },
  {
   "cell_type": "markdown",
   "metadata": {},
   "source": [
    "**Busca**"
   ]
  },
  {
   "cell_type": "markdown",
   "metadata": {},
   "source": [
    "- verificar\t se\t determinados rótulos\tou\tvalores\testão\tpresentes\tem\tuma\tSeries"
   ]
  },
  {
   "cell_type": "markdown",
   "metadata": {},
   "source": [
    "**Modificação**"
   ]
  },
  {
   "cell_type": "markdown",
   "metadata": {},
   "source": [
    "- Função drop() , faz com que ele remova um aluno da lista original!"
   ]
  },
  {
   "cell_type": "code",
   "execution_count": 1,
   "metadata": {},
   "outputs": [
    {
     "name": "stdout",
     "output_type": "stream",
     "text": [
      "Series\toriginal:\n",
      "M02      Bob\n",
      "M05    Dayse\n",
      "M13     Bill\n",
      "M14     Cris\n",
      "M19     Jimi\n",
      "dtype: object\n",
      "---------------------------\n",
      "Series\tapós\tas\talterações:\n",
      "M05     Dayse\n",
      "M13     Billy\n",
      "M14    Cristy\n",
      "M19     Jimmy\n",
      "M55    Rakesh\n",
      "dtype: object\n"
     ]
    }
   ],
   "source": [
    "#P05:\tInserindo,\tAlterando\te\tRemovendo\telementos\tde\tSeries\n",
    "import\tpandas\tas\tpd\n",
    "#cria\ta\tSeries\t\"alunos\"\n",
    "alunos\t=\tpd.Series({'M02':'Bob','M05':'Dayse','M13':'Bill','M14':'Cris','M19':'Jimi'})\n",
    "print('Series\toriginal:')\n",
    "print(alunos)\n",
    "#insere\to\taluno\tde\tmatrícula\tM55,\tRakesh\n",
    "alunos['M55']\t=\t'Rakesh'\n",
    "#altera\tos\tnomes\tBill,\tCris\te\tJimi\tpara\tBilly,\tCristy\te\tJimmy\n",
    "alunos['M13']\t=\t'Billy'\n",
    "alunos[['M14','M19']]\t=\t['Cristy','Jimmy']\n",
    "#remove\to\taluno\tde\tmatrícula\tM02\t(Bob)\n",
    "alunos\t=\talunos.drop('M02')\n",
    "print('---------------------------')\n",
    "print('Series\tapós\tas\talterações:')\n",
    "print(alunos)"
   ]
  },
  {
   "cell_type": "markdown",
   "metadata": {},
   "source": [
    "**COMPUTAÇÃO\tVETORIZADA**"
   ]
  },
  {
   "cell_type": "markdown",
   "metadata": {},
   "source": [
    "- Utilizando da maneira tradicional\n"
   ]
  },
  {
   "cell_type": "code",
   "execution_count": 8,
   "metadata": {},
   "outputs": [
    {
     "name": "stdout",
     "output_type": "stream",
     "text": [
      "Bob\n",
      "Dayse\n",
      "Bill\n",
      "Cris\n",
      "Jimi\n",
      "M02\n",
      "M05\n",
      "M13\n",
      "M14\n",
      "M19\n"
     ]
    }
   ],
   "source": [
    "#P06:\tIteração\n",
    "import pandas as pd\n",
    "alunos = pd.Series({'M02':'Bob','M05':'Dayse','M13':'Bill','M14':'Cris','M19':'Jimi'})\n",
    "#itera\tsobre\tos\tdados\t(nomes\tdos\talunos)\n",
    "for\taluno\tin\talunos:\tprint(aluno)\n",
    "#itera\tsobre\tos\tíndices\t(matrículas)\n",
    "for\tindice\tin\talunos.index:\tprint(indice)\n"
   ]
  },
  {
   "cell_type": "markdown",
   "metadata": {},
   "source": [
    "- as\toperações\tsão\trealizadas\tsobre\tcada\telemento\tda\tSeries automaticamente,\tsem\ta\tnecessidade\tde\tprogramar\tum\tlaço\tcom\to comando\t\tfor."
   ]
  },
  {
   "cell_type": "markdown",
   "metadata": {},
   "source": [
    "**Operações utilizando o método pandas + numpy (Para utilização de somas)**"
   ]
  },
  {
   "cell_type": "code",
   "execution_count": 13,
   "metadata": {},
   "outputs": [
    {
     "name": "stdout",
     "output_type": "stream",
     "text": [
      "s1:\n",
      "0    2\n",
      "1    4\n",
      "2    6\n",
      "dtype: int64\n",
      "s2:\n",
      "0    1\n",
      "1    3\n",
      "2    5\n",
      "dtype: int64\n",
      "---------------------------\n",
      "s1\t* 2\n",
      "0     4\n",
      "1     8\n",
      "2    12\n",
      "dtype: int64\n",
      "---------------------------\n",
      "s1\t+\ts2\n",
      "0     3\n",
      "1     7\n",
      "2    11\n",
      "dtype: int64\n",
      "---------------------------\n",
      "raiz\tquadrada\tdos\telementos\tde\ts1\n",
      "0    1.414214\n",
      "1    2.000000\n",
      "2    2.449490\n",
      "dtype: float64\n"
     ]
    }
   ],
   "source": [
    "#P07:\tOperações\taritméticas\tcom\tcomputação\tvetorizada\n",
    "import\tpandas\tas\tpd\n",
    "import\tnumpy\tas\t\tnp\n",
    "#cria\tas\tSeries\ts1\te\ts2\n",
    "s1\t=\tpd.Series([2,4,6])\n",
    "s2\t=\tpd.Series([1,3,5])\n",
    "print('s1:');\tprint(s1)\n",
    "print('s2:');\tprint(s2)\n",
    "#efetua\tas\toperações\taritméticas\n",
    "print('---------------------------')\n",
    "print('s1\t* 2')\n",
    "print(s1\t*\t2)\t\t\t\t\t\t\t\t\t\t\n",
    "print('---------------------------')\n",
    "print('s1\t+\ts2')\n",
    "print(s1\t+\ts2)\n",
    "print('---------------------------')\n",
    "print('raiz\tquadrada\tdos\telementos\tde\ts1')\n",
    "print(np.sqrt(s1))\t\t\t#com\ta\tNumpy!"
   ]
  },
  {
   "cell_type": "markdown",
   "metadata": {},
   "source": [
    "**Método NumPy**"
   ]
  },
  {
   "cell_type": "markdown",
   "metadata": {},
   "source": [
    "- Envolve arrays(Vetores e Matrizes)"
   ]
  },
  {
   "cell_type": "code",
   "execution_count": 16,
   "metadata": {},
   "outputs": [
    {
     "name": "stdout",
     "output_type": "stream",
     "text": [
      "soma:\n",
      "AR    NaN\n",
      "BR    2.0\n",
      "FR    1.0\n",
      "IT    1.0\n",
      "UK    1.0\n",
      "dtype: float64\n",
      "---------------------------\n",
      "isnull(soma):\n",
      "AR     True\n",
      "BR    False\n",
      "FR    False\n",
      "IT    False\n",
      "UK    False\n",
      "dtype: bool\n"
     ]
    }
   ],
   "source": [
    "#P08:\to\tvalor\tNaN\n",
    "import\tpandas\tas\tpd\n",
    "verde\t=\tpd.Series({'BR':1,\t'FR':\t0,\t'IT':1,\t'UK':\t0})\n",
    "azul\t=\tpd.Series({'AR':1,\t'BR':1,\t'FR':\t1,\t'IT':0,\t'UK':\t1})\n",
    "soma\t=\tverde\t+\tazul\n",
    "print(\"soma:\")\n",
    "print(soma)\n",
    "print('---------------------------')\n",
    "print(\"isnull(soma):\")\n",
    "print(pd.isnull(soma))\n"
   ]
  },
  {
   "cell_type": "markdown",
   "metadata": {},
   "source": [
    "**NaN**\n"
   ]
  },
  {
   "cell_type": "markdown",
   "metadata": {},
   "source": [
    "- Marca valores nulos ou ausentes"
   ]
  },
  {
   "cell_type": "markdown",
   "metadata": {},
   "source": [
    "**Método isnull()**\n"
   ]
  },
  {
   "cell_type": "markdown",
   "metadata": {},
   "source": [
    "- recebe\t como\t entrada\t uma\t Series\t \ts\t,\t gerando\t como\t saída\t uma outra\tSeries\tcom\t\tdtype\t \tbool\t,\t que\tindica\t quais\tdos\t rótulos\tde s\t\t estão\t associados\t a\t valores\t nulos\t (\tNaN\t)"
   ]
  },
  {
   "cell_type": "markdown",
   "metadata": {},
   "source": [
    "**DATETIME**"
   ]
  },
  {
   "cell_type": "code",
   "execution_count": 25,
   "metadata": {},
   "outputs": [
    {
     "name": "stdout",
     "output_type": "stream",
     "text": [
      "2019-02-10    31\n",
      "2019-02-11    35\n",
      "2019-02-12    34\n",
      "2019-02-13    28\n",
      "2019-02-14    27\n",
      "2019-02-15    27\n",
      "dtype: int64\n"
     ]
    }
   ],
   "source": [
    "#P09:\tÍndices\tdatetime\n",
    "import\tpandas\tas\tpd\t\t\n",
    "#(1)-cria\ta\tsérie\ttemporal\n",
    "dias\t=\t['10/02/2019',\t'11/02/2019','12/02/2019','13/02/2019',\n",
    "\t\t\t\t\t\t\t\t'14/02/2019','15/02/2019']\n",
    "temp_max\t=\t[31,35,34,28,27,27]\n",
    "serie_temporal\t=\tpd.Series(temp_max,index=dias)\n",
    "#(2)-converte\to\ttipo\tdo\tíndice\tpara\tdatetime\te\timprime\ta\tsérie\n",
    "serie_temporal.index\t=\tpd.to_datetime(serie_temporal.index,\t\n",
    "\t\t\t\t\t\t\t\t\t\t\t\t\t\t\t\t\t\t\t\t\t\t\t\t\t\t\t\t\t\t\t\t\t\t\t\t\t\tformat='%d/%m/%Y')\n",
    "print(serie_temporal)\n"
   ]
  },
  {
   "cell_type": "markdown",
   "metadata": {},
   "source": [
    "**INDEXAÇÃO\tHIERÁRQUICA**"
   ]
  },
  {
   "cell_type": "markdown",
   "metadata": {},
   "source": [
    "- Conceito em forma de exemplo"
   ]
  },
  {
   "cell_type": "code",
   "execution_count": 1,
   "metadata": {},
   "outputs": [
    {
     "name": "stdout",
     "output_type": "stream",
     "text": [
      "América  AR     Peso\n",
      "         BR     Real\n",
      "Europa   FR     Euro\n",
      "         IT     Euro\n",
      "         UK    Libra\n",
      "dtype: object\n",
      "----------------------\n",
      "AR    Peso\n",
      "BR    Real\n",
      "dtype: object\n",
      "----------------------\n",
      "Europa    Euro\n",
      "dtype: object\n",
      "----------------------\n",
      "Euro\n"
     ]
    }
   ],
   "source": [
    "#P10:\tÍndexação\thierárquica\n",
    "import\tpandas\tas\tpd\n",
    "moedas\t\t=\t['Peso',\t'Real',\t'Euro',\t'Euro',\t'Libra']\n",
    "paises\t=\t[['América','América','Europa','Europa','Europa'],\n",
    "\t\t\t\t\t\t\t\t\t\t['AR','BR','FR','IT','UK']]\n",
    "paises\t=\tpd.Series(moedas,\tindex=paises)\n",
    "print(paises)\t\t\t\t\t\t\t\t\t\t\t\t\t\t\t\t\t\t\t\t#imprime\ttoda\ta\tSeries\n",
    "print('----------------------')\t\n",
    "print(paises['América'])\t\t\t\t\t\t\t\t\t#{AR:\tPeso,\tBR:Real}\n",
    "print('----------------------')\t\n",
    "print(paises[:,'IT'])\t\t\t\t\t\t\t\t\t\t\t\t#{Europa:\tEuro}\n",
    "print('----------------------')\t\n",
    "print(paises['Europa','IT'])\t\t\t\t\t#Euro"
   ]
  },
  {
   "cell_type": "markdown",
   "metadata": {},
   "source": [
    "**DATAFRAME**"
   ]
  },
  {
   "cell_type": "markdown",
   "metadata": {},
   "source": [
    "- utilizada\t para\t representar\t dados tabulares\tem\tmemória,\tisto\té,\tdados\tdispostos\tem\tlinhas\te\tcolunas.\n",
    "- \tdados\ttabulares mais eficazes e rapidos."
   ]
  },
  {
   "cell_type": "code",
   "execution_count": 3,
   "metadata": {},
   "outputs": [],
   "source": [
    "#Exemplo"
   ]
  },
  {
   "cell_type": "code",
   "execution_count": 7,
   "metadata": {},
   "outputs": [
    {
     "name": "stdout",
     "output_type": "stream",
     "text": [
      "           nome continente  Extensão  corVerde\n",
      "AR    Argentina    América      2780         0\n",
      "BR       Brasil    América      8511         1\n",
      "FR       França     Europa       644         0\n",
      "IT       Italia     Europa       301         1\n",
      "UK  Reino Unido     Europa       244         0\n"
     ]
    }
   ],
   "source": [
    "#P11:\tHello\tDataFrame!\n",
    "import pandas as pd\n",
    "#cria\to\tDataFrame.\n",
    "dados = {'nome':['Argentina','Brasil', 'França','Italia','Reino Unido'],'continente':['América','América','Europa','Europa','Europa'],'Extensão':[2780,8511,644,301,244],'corVerde':[0,1,0,1,0]}\n",
    "siglas = ['AR','BR','FR','IT','UK']\n",
    "paises = pd.DataFrame(dados,index=siglas)\n",
    "\n",
    "#imprime siglas\n",
    "\n",
    "print(paises)"
   ]
  },
  {
   "cell_type": "markdown",
   "metadata": {},
   "source": [
    "*Propriedades basicas do dataframe:*"
   ]
  },
  {
   "cell_type": "markdown",
   "metadata": {},
   "source": [
    "- shape\t:\tformato\tdo\tDataFrame,\tou\tseja,\to\tseu\tnúmero\tde\n",
    "- linhas\t(\tshape[0]\t)\te\tde\tcolunas\t(\tshape[1]\t);\n",
    "- index\t:\tlista\tcom\tos\trótulos\tdas\tlinhas;\n",
    "- columns\t:\tlista\tcom\tos\trótulos\tdas\tcolunas;\n",
    "- dtypes\t:\t retorna\t uma\t Series\t com\t os\t \tdtypes\t\t de\t cada coluna;\n",
    "- index.dtype\t:\t\tdtype\t\tdos\trótulos\tdas\tlinhas."
   ]
  },
  {
   "cell_type": "code",
   "execution_count": 11,
   "metadata": {},
   "outputs": [
    {
     "name": "stdout",
     "output_type": "stream",
     "text": [
      "           nome continente  Extensão  corVerde\n",
      "AR    Argentina    América      2780         0\n",
      "BR       Brasil    América      8511         1\n",
      "FR       França     Europa       644         0\n",
      "IT       Italia     Europa       301         1\n",
      "UK  Reino Unido     Europa       244         0\n",
      "-----------\n",
      "número\tde\tlinhas:\t 5\n",
      "número\tde\tcolunas:\t 4\n",
      "rótulos\tdas\tlinhas:\t Index(['AR', 'BR', 'FR', 'IT', 'UK'], dtype='object')\n",
      "rótulos\tdas\tcolunas:\t Index(['nome', 'continente', 'Extensão', 'corVerde'], dtype='object')\n",
      "tipo\t(type):\t <class 'pandas.core.frame.DataFrame'>\n",
      "dtypes\tdas\tcolunas:\n",
      " nome          object\n",
      "continente    object\n",
      "Extensão       int64\n",
      "corVerde       int64\n",
      "dtype: object\n",
      "dtype\tdos\trótulos\tdas\tlinhas: object\n"
     ]
    }
   ],
   "source": [
    "#P11:\tHello\tDataFrame!\n",
    "import pandas as pd\n",
    "#cria\to\tDataFrame.\n",
    "dados = {'nome':['Argentina','Brasil', 'França','Italia','Reino Unido'],'continente':['América','América','Europa','Europa','Europa'],'Extensão':[2780,8511,644,301,244],'corVerde':[0,1,0,1,0]}\n",
    "siglas = ['AR','BR','FR','IT','UK']\n",
    "paises = pd.DataFrame(dados,index=siglas)\n",
    "\n",
    "#imprime siglas\n",
    "\n",
    "print(paises)\n",
    "#recupera\te\timprime\tas\tpropriedades\t\n",
    "print('-----------')\n",
    "num_linhas\t=\tpaises.shape[0] #Número de linhas.\n",
    "num_colunas\t=\tpaises.shape[1] #Número de colunas.\n",
    "indices\t=\tpaises.index #indexação de linha.\n",
    "colunas\t=\tpaises.columns #indexação de coluna.\n",
    "paises_tipo\t=\ttype(paises)\t\t\t\t\t\t\t\t\t\t\t\t\t\n",
    "paises_dtypes\t=\tpaises.dtypes\n",
    "paises_idx_dtype\t=\tpaises.index.dtype\t\t\n",
    "print('número\tde\tlinhas:\t',\tnum_linhas)\n",
    "print('número\tde\tcolunas:\t',\tnum_colunas)\n",
    "print('rótulos\tdas\tlinhas:\t',\tindices)\n",
    "print('rótulos\tdas\tcolunas:\t',\tcolunas)\n",
    "print('tipo\t(type):\t',paises_tipo)\n",
    "print('dtypes\tdas\tcolunas:\\n',\tpaises_dtypes)\n",
    "print('dtype\tdos\trótulos\tdas\tlinhas:',\tpaises_idx_dtype)"
   ]
  },
  {
   "cell_type": "markdown",
   "metadata": {},
   "source": [
    "**Método Busca**\n",
    "- Como\tverificar\tse\tum\tdeterminado\trótulo\tde\tlinha\tou\tcoluna existe\tem\tum\tDataFrame;\n",
    "-\t Como\t verificar\t se\t um\t determinado\t valor\t está\t armazenado em\talguma\tcoluna\tdo\tDataFrame."
   ]
  },
  {
   "cell_type": "markdown",
   "metadata": {},
   "source": [
    "- Se\t você\t quiser\t testar\t se\t um\t valor\t está\t armazenado\t em\t uma coluna,\tprecisará\tutilizar\to\tmétodo\t\tisin()"
   ]
  },
  {
   "cell_type": "code",
   "execution_count": 15,
   "metadata": {},
   "outputs": [
    {
     "name": "stdout",
     "output_type": "stream",
     "text": [
      "existe\to\trótulo\t'BR?\t->\t True\n",
      "existe\to\trótulo\t'US'?\t->\t False\n",
      "---------------------------\n",
      "existe\to\trótulo\t'corVerde?\t->\t True\n",
      "existe\to\trótulo\t'corAzul'?\t->\t False\n",
      "---------------------------\n",
      "existe\to\tvalor\t'Brasil'\tna\tcoluna\t'nome'?\n",
      "AR    False\n",
      "BR     True\n",
      "FR    False\n",
      "IT    False\n",
      "UK    False\n",
      "Name: nome, dtype: bool\n"
     ]
    }
   ],
   "source": [
    "#P13:\tBusca\tem\tDataFrames\n",
    "import\tpandas\tas\tpd\n",
    "#cria\to\tDataFrame\n",
    "dados\t=\t{'nome':\t['Argentina','Brasil','França','Itália',\n",
    "\t\t\t\t\t\t\t\t\t\t\t\t\t\t\t\t\t\t'Reino\tUnido'],\n",
    "\t\t\t\t\t\t\t\t\t'continente':\t['América','América','Europa','Europa',\n",
    "\t\t\t\t\t\t\t\t\t\t\t\t\t\t\t\t\t\t\t\t\t\t\t\t'Europa'],\n",
    "\t\t\t\t\t\t\t\t\t'extensao':\t[2780,8511,644,301,244],\n",
    "\t\t\t\t\t\t\t\t\t'corVerde':\t[0,1,0,1,0]}\n",
    "siglas\t=\t['AR','BR','FR','IT','UK']\n",
    "paises\t=\tpd.DataFrame(dados,index=siglas)\n",
    "#testa\tse\tum\tdado\trótulo\tde\tlinha\texiste\n",
    "tem_BR\t=\t'BR' in\tpaises.index\n",
    "tem_US\t=\t'US' in\tpaises.index\n",
    "print(\"existe\to\trótulo\t'BR?\t->\t\",tem_BR)\t\t\t\t\t\t\t\t\n",
    "print(\"existe\to\trótulo\t'US'?\t->\t\",tem_US)\t\t\t\t\t\t\t\t\n",
    "print('---------------------------')\n",
    "#testa\tse\tum\tdado\trótulo\tde\tcoluna\texiste\n",
    "tem_corVerde\t=\t'corVerde' in\tpaises.columns\n",
    "tem_corAzul\t=\t'corAzul' in\tpaises.columns\n",
    "print(\"existe\to\trótulo\t'corVerde?\t->\t\",tem_corVerde)\t\t\t\t\t\t\t\t\n",
    "print(\"existe\to\trótulo\t'corAzul'?\t->\t\",tem_corAzul)\n",
    "print('---------------------------')\n",
    "#testa\tse\tvalor\tfaz\tparte\tde\tuma\tcoluna\n",
    "tem_Brasil\t=\tpaises['nome'].isin(['Brasil'])\n",
    "print(\"existe\to\tvalor\t'Brasil'\tna\tcoluna\t'nome'?\")\t\t\t\t\t\t\n",
    "print(tem_Brasil)"
   ]
  },
  {
   "cell_type": "markdown",
   "metadata": {},
   "source": [
    "**Modificando em DataFrame**"
   ]
  },
  {
   "cell_type": "code",
   "execution_count": 16,
   "metadata": {},
   "outputs": [
    {
     "name": "stdout",
     "output_type": "stream",
     "text": [
      "DataFrame\tapós\tas\talterações:\n",
      "      nome continente  extensao  corVerde\n",
      "BR  Brasil    América      8512         1\n",
      "FR  França     Europa       644         0\n",
      "IT  Itália     Europa       301         1\n",
      "JP   Japão       Ásia       372         0\n"
     ]
    }
   ],
   "source": [
    "#P14:\tModificação\tde\tDataFrame\n",
    "import\tpandas\tas\tpd\n",
    "#cria\to\tDataFrame\n",
    "dados\t=\t{'nome':\t['Argentina','Brasil','França','Itália',\n",
    "\t\t\t\t\t\t\t\t\t\t\t\t\t\t\t\t\t\t'Reino\tUnido'],\n",
    "\t\t\t\t\t\t\t\t\t'continente':\t['América','América','Europa','Europa',\n",
    "\t\t\t\t\t\t\t\t\t\t\t\t\t\t\t\t\t\t\t\t\t\t\t\t'Europa'],\n",
    "\t\t\t\t\t\t\t\t\t'extensao':\t[2780,8511,644,301,244],\n",
    "\t\t\t\t\t\t\t\t\t'corVerde':\t[0,1,0,1,0]}\n",
    "siglas\t=\t['AR','BR','FR','IT','UK']\n",
    "paises\t=\tpd.DataFrame(dados,index=siglas)\n",
    "#insere\to\tpaís\tJapão\t(JP)\n",
    "paises.loc['JP']=\t{'nome':\t'Japão',\t\n",
    "\t\t\t\t\t\t'continente':\t'Ásia',\t\n",
    "\t\t\t\t\t\t'extensao':\t372,\n",
    "\t\t\t\t\t\t'corVerde':\t0}\n",
    "#altera\ta\textensão\tdo\tBrasil\n",
    "paises.at['BR','extensao']=8512\n",
    "#remove\ta\tArgentina\te\to\tReino\tUnido\n",
    "paises\t=\tpaises.drop(['AR','UK'])\n",
    "print('DataFrame\tapós\tas\talterações:')\n",
    "print(paises)"
   ]
  }
 ],
 "metadata": {
  "kernelspec": {
   "display_name": "Python 3",
   "language": "python",
   "name": "python3"
  },
  "language_info": {
   "codemirror_mode": {
    "name": "ipython",
    "version": 3
   },
   "file_extension": ".py",
   "mimetype": "text/x-python",
   "name": "python",
   "nbconvert_exporter": "python",
   "pygments_lexer": "ipython3",
   "version": "3.8.5"
  }
 },
 "nbformat": 4,
 "nbformat_minor": 4
}
